{
 "cells": [
  {
   "cell_type": "markdown",
   "metadata": {},
   "source": [
    "# NASA Mars News\n",
    "\n",
    "Scrape the NASA Mars News Site and collect the latest News Title and Paragraph Text. Assign the text to variables that you can reference later.\n",
    "\n",
    "# Example:\n",
    "news_title = \"NASA's Next Mars Mission to Investigate Interior of Red Planet\"\n",
    "\n",
    "news_p = \"Preparation of NASA's next spacecraft to Mars, InSight, has ramped up this summer, on course for launch next May from Vandenberg Air Force Base in central California -- the first interplanetary launch in history from America's West Coast.\"\n"
   ]
  },
  {
   "cell_type": "code",
   "execution_count": 35,
   "metadata": {},
   "outputs": [],
   "source": [
    "from splinter import Browser\n",
    "from bs4 import BeautifulSoup\n",
    "import time\n"
   ]
  },
  {
   "cell_type": "code",
   "execution_count": 36,
   "metadata": {},
   "outputs": [
    {
     "name": "stdout",
     "output_type": "stream",
     "text": [
      "/usr/local/bin/chromedriver\r\n"
     ]
    }
   ],
   "source": [
    " !which chromedriver"
   ]
  },
  {
   "cell_type": "code",
   "execution_count": 37,
   "metadata": {},
   "outputs": [],
   "source": [
    "executable_path = {'executable_path': '/usr/local/bin/chromedriver'}\n",
    "browser = Browser('chrome', **executable_path, headless=False)"
   ]
  },
  {
   "cell_type": "code",
   "execution_count": 38,
   "metadata": {},
   "outputs": [],
   "source": [
    "url = 'https://mars.nasa.gov/news/'\n",
    "browser.visit(url)"
   ]
  },
  {
   "cell_type": "code",
   "execution_count": 45,
   "metadata": {},
   "outputs": [],
   "source": [
    "html = browser.html\n",
    "soup = BeautifulSoup(html, 'html.parser')\n",
    "time.sleep(1)\n",
    "\n",
    "\n",
    "news = soup.find('li', class_='slide')\n",
    "\n",
    "#print(len(news))\n",
    "#print(news.prettify())"
   ]
  },
  {
   "cell_type": "code",
   "execution_count": 46,
   "metadata": {},
   "outputs": [
    {
     "name": "stdout",
     "output_type": "stream",
     "text": [
      "The title of the article is: NASA Wins 4 Webbys, 4 People's Voice Awards\n",
      "\n",
      "The paragraph text of the article is: Winners include the JPL-managed \"Send Your Name to Mars\" campaign, NASA's Global Climate Change website and Solar System Interactive.\n"
     ]
    }
   ],
   "source": [
    "\n",
    "title = soup.find('div', class_='bottom_gradient')\n",
    "paragraph = soup.find('div', class_='article_teaser_body')\n",
    "title_text = (title.text)\n",
    "paragraph_text = (paragraph.text)\n",
    "\n",
    "print(f\"The title of the article is: {title_text}\")\n",
    "print(\"\")\n",
    "print(f\"The paragraph text of the article is: {paragraph_text}\")\n",
    "\n"
   ]
  },
  {
   "cell_type": "markdown",
   "metadata": {},
   "source": [
    "# JPL Mars Space Images - Featured Image\n",
    "\n",
    "-Visit the url for JPL Featured Space Image ( https://www.jpl.nasa.gov/spaceimages/?search=&category=Mars ).\n",
    "\n",
    "-Use splinter to navigate the site and find the image url for the current Featured Mars Image and assign the url string to a variable called featured_image_url.\n",
    "\n",
    "\n",
    "-Make sure to find the image url to the full size .jpg image.\n",
    "\n",
    "\n",
    "-Make sure to save a complete url string for this image.\n",
    "\n"
   ]
  },
  {
   "cell_type": "code",
   "execution_count": 81,
   "metadata": {},
   "outputs": [],
   "source": [
    "url = 'https://www.jpl.nasa.gov/spaceimages/?search=&category=Mars'\n",
    "browser.visit(url)"
   ]
  },
  {
   "cell_type": "code",
   "execution_count": 82,
   "metadata": {},
   "outputs": [],
   "source": [
    "html = browser.html\n",
    "soup = BeautifulSoup(html, 'html.parser')\n",
    "time.sleep(1)\n"
   ]
  },
  {
   "cell_type": "code",
   "execution_count": 83,
   "metadata": {
    "scrolled": false
   },
   "outputs": [
    {
     "name": "stdout",
     "output_type": "stream",
     "text": [
      "<a class=\"button fancybox\" data-description=\"The oldest light in the universe, called the cosmic microwave background, as observed by the Planck space telescope is shown in the oval sky map. An artist's concept of Planck is next to the map.\" data-fancybox-group=\"images\" data-fancybox-href=\"/spaceimages/images/mediumsize/PIA17449_ip.jpg\" data-link=\"/spaceimages/details.php?id=PIA17449\" data-title=\"Planck and the Cosmic Microwave Background (Artist Concept)\" id=\"full_image\">\n",
      "\t\t\t\t\tFULL IMAGE\n",
      "\t\t\t\t  </a>\n",
      "/spaceimages/images/mediumsize/PIA17449_ip.jpg\n"
     ]
    }
   ],
   "source": [
    "# print(soup.prettify())\n",
    "\n",
    "\n",
    "# yes :\n",
    "# img = soup.find('section', class_='primary_media_feature')\n",
    "# print(img)\n",
    "\n",
    "img_2 = soup.find('a', class_=\"button fancybox\")\n",
    "print(img_2)\n",
    "\n",
    "\n",
    "href = soup.find('a', class_=\"button fancybox\")['data-fancybox-href']\n",
    "print(href)\n",
    "\n",
    "\n",
    "# NO :\n",
    "#img_link = soup.find('article', style=\"background-image:\")\n",
    "# img_link = soup.find_all('a')[0]['data-fancybox-href=:']\n",
    "# print(img_link)\n",
    "# img_2 = soup.find('a', data-fancybox-group=\"images\")\n",
    "# print(img_2)\n",
    "\n",
    "\n",
    "\n",
    "#section class=\"centered_text clearfix main_feature primary_media_feature single\""
   ]
  },
  {
   "cell_type": "code",
   "execution_count": 84,
   "metadata": {},
   "outputs": [
    {
     "name": "stdout",
     "output_type": "stream",
     "text": [
      "https://www.jpl.nasa.gov/spaceimages/images/mediumsize/PIA17449_ip.jpg\n"
     ]
    }
   ],
   "source": [
    "featured_image_url = \"https://www.jpl.nasa.gov\" + href\n",
    "\n",
    "print(featured_image_url)"
   ]
  },
  {
   "cell_type": "markdown",
   "metadata": {},
   "source": [
    "## Mars Weather\n",
    "\n",
    "- Visit the Mars Weather twitter account (https://twitter.com/marswxreport?lang=en) and scrape the latest Mars weather tweet from the page. Save the tweet text for the weather report as a variable called mars_weather.\n",
    "\n",
    "- Note: Be sure you are not signed in to twitter, or scraping may become more difficult.\n",
    "\n",
    "- Note: Twitter frequently changes how information is presented on their website. If you are having difficulty getting the correct html tag data, consider researching Regular Expression Patterns and how they can be used in combination with the .find() method."
   ]
  },
  {
   "cell_type": "code",
   "execution_count": 85,
   "metadata": {},
   "outputs": [],
   "source": [
    "url = 'https://twitter.com/marswxreport?lang=en'\n",
    "browser.visit(url)\n"
   ]
  },
  {
   "cell_type": "code",
   "execution_count": 86,
   "metadata": {},
   "outputs": [],
   "source": [
    "html = browser.html\n",
    "soup = BeautifulSoup(html, 'html.parser')\n",
    "time.sleep(1)\n",
    "\n"
   ]
  },
  {
   "cell_type": "code",
   "execution_count": 129,
   "metadata": {},
   "outputs": [],
   "source": [
    "#print(soup.prettify())"
   ]
  },
  {
   "cell_type": "code",
   "execution_count": 128,
   "metadata": {
    "scrolled": true
   },
   "outputs": [
    {
     "name": "stdout",
     "output_type": "stream",
     "text": [
      "InSight sol 525 (2020-05-18) low -93.6ºC (-136.5ºF) high -0.4ºC (31.3ºF)\n",
      "winds from the WNW at 4.8 m/s (10.8 mph) gusting to 18.5 m/s (41.4 mph)\n",
      "pressure at 7.10 hPa\n"
     ]
    }
   ],
   "source": [
    "# twitter1 = soup.find('div', class_='css-1dbjc4n')\n",
    "# print(twitter1.prettify())\n",
    "\n",
    "\n",
    "# twitter2 = soup.find('div', class_='css-1dbjc4n')\n",
    "# print(twitter2.prettify())\n",
    "\n",
    "# twitter3 = soup.find('article', role='article')\n",
    "# print(twitter3.prettify())\n",
    "\n",
    "# twitter4 = soup.find('div', class_='css-1dbjc4n')\n",
    "# print(twitter4.prettify())\n",
    "\n",
    "# twitter5 = soup.find('div', class_='css-1dbjc4n')\n",
    "# print(twitter5.prettify())\n",
    "\n",
    "# twitter6 = soup.find('div', class_='css-1dbjc4n')\n",
    "# print(twitter6.prettify())\n",
    "\n",
    "twitter7 = soup.find('div', lang=\"en\")\n",
    "print(twitter7.text)\n"
   ]
  },
  {
   "cell_type": "code",
   "execution_count": 130,
   "metadata": {},
   "outputs": [
    {
     "name": "stdout",
     "output_type": "stream",
     "text": [
      "InSight sol 525 (2020-05-18) low -93.6ºC (-136.5ºF) high -0.4ºC (31.3ºF)\n",
      "winds from the WNW at 4.8 m/s (10.8 mph) gusting to 18.5 m/s (41.4 mph)\n",
      "pressure at 7.10 hPa\n"
     ]
    }
   ],
   "source": [
    "mars_weather = (twitter7.text)\n",
    "print(mars_weather)"
   ]
  },
  {
   "cell_type": "code",
   "execution_count": null,
   "metadata": {},
   "outputs": [],
   "source": []
  }
 ],
 "metadata": {
  "kernelspec": {
   "display_name": "Python [conda env:PythonData]",
   "language": "python",
   "name": "conda-env-PythonData-py"
  },
  "language_info": {
   "codemirror_mode": {
    "name": "ipython",
    "version": 3
   },
   "file_extension": ".py",
   "mimetype": "text/x-python",
   "name": "python",
   "nbconvert_exporter": "python",
   "pygments_lexer": "ipython3",
   "version": "3.8.1"
  }
 },
 "nbformat": 4,
 "nbformat_minor": 4
}
